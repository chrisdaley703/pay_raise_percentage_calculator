{
 "cells": [
  {
   "cell_type": "code",
   "execution_count": 1,
   "metadata": {},
   "outputs": [],
   "source": [
    "def salary_calc(current_pph, weekly_hrs=40):\n",
    "        weekly_pay = round(current_pph * weekly_hrs, 2)\n",
    "        yearly_pay = round(weekly_pay * 52, 2)\n",
    "        return \"If you make $\" + str(current_pph) + \" per hour, your current yearly salary is $\" + str(yearly_pay)\n",
    "def pay_raise_calc(current_pph, perc_incr, weekly_hrs=40):\n",
    "        new_pph = round(current_pph + (current_pph * perc_incr), 2)\n",
    "        new_weekly_pay = round(new_pph * weekly_hrs, 2)\n",
    "        new_yearly_pay = round(new_weekly_pay * 52, 2) \n",
    "        return \"If you receive a \" + str(perc_incr * 100) + \"% raise, your new pay per hour is $\" + str(new_pph) + \" and your new yearly salary is $\" + str(new_yearly_pay) \n",
    "def salary_info(current_pph, perc_incr, weekly_hrs=40):\n",
    "    print(salary_calc(current_pph)) \n",
    "    print(pay_raise_calc(current_pph, perc_incr))"
   ]
  },
  {
   "cell_type": "code",
   "execution_count": 2,
   "metadata": {},
   "outputs": [
    {
     "name": "stdout",
     "output_type": "stream",
     "text": [
      "If you make $18.57 per hour, your current yearly salary is $38625.6\n",
      "If you receive a 3.0% raise, your new pay per hour is $19.13 and your new yearly salary is $39790.4\n"
     ]
    }
   ],
   "source": [
    "salary_info(18.57, .03)"
   ]
  },
  {
   "cell_type": "code",
   "execution_count": null,
   "metadata": {},
   "outputs": [],
   "source": []
  }
 ],
 "metadata": {
  "kernelspec": {
   "display_name": "Python 3",
   "language": "python",
   "name": "python3"
  },
  "language_info": {
   "codemirror_mode": {
    "name": "ipython",
    "version": 3
   },
   "file_extension": ".py",
   "mimetype": "text/x-python",
   "name": "python",
   "nbconvert_exporter": "python",
   "pygments_lexer": "ipython3",
   "version": "3.6.6"
  }
 },
 "nbformat": 4,
 "nbformat_minor": 2
}
